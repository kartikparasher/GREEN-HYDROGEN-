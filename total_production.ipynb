{
 "cells": [
  {
   "cell_type": "code",
   "execution_count": 2,
   "id": "bc5bcbcd-f216-4fbf-a392-669cd22121b6",
   "metadata": {},
   "outputs": [
    {
     "name": "stdout",
     "output_type": "stream",
     "text": [
      "   Year  Month  Day  Power generated  Hydrogen   Ammonia \n",
      "0  2012      7  1.0       140.732461  2.655329  12.846348\n",
      "1  2012      7  2.0       119.246941  2.249942  10.885105\n",
      "2  2012      7  3.0       170.689007  3.220547  15.580843\n",
      "3  2012      7  4.0       207.169993  3.908868  18.910902\n",
      "4  2012      7  5.0       245.717274  4.636175  22.429576\n",
      "Hydrogen Model Mean Squared Error: 1.1713031034927566e-30\n",
      "Ammonia Model Mean Squared Error: 6.599415819431122e-29\n",
      "Total Annual Solar Power Generated: 74242.72791823078\n",
      "Total Annual Hydrogen Production: 1400.8061871364303\n",
      "Total Annual Ammonia Production: 6777.028401968341\n"
     ]
    }
   ],
   "source": [
    "import pandas as pd\n",
    "from sklearn.model_selection import train_test_split\n",
    "from sklearn.linear_model import LinearRegression\n",
    "from sklearn.metrics import mean_squared_error\n",
    "\n",
    "# Load the dataset\n",
    "file_path = 'solar_data_new_Ammonia.csv'\n",
    "data = pd.read_csv(file_path)\n",
    "\n",
    "# Calculate the daily total solar power, hydrogen, and ammonia production\n",
    "daily_data = data.groupby(['Year', 'Month', 'Day']).agg({\n",
    "    'Power generated': 'sum',\n",
    "    'Hydrogen': 'sum',\n",
    "    'Ammonia ': 'sum'\n",
    "}).reset_index()\n",
    "\n",
    "# Display the processed data\n",
    "print(daily_data.head())\n",
    "\n",
    "# Split the data into training and testing sets for hydrogen prediction\n",
    "X_hydrogen = daily_data[['Power generated']]\n",
    "y_hydrogen = daily_data['Hydrogen']\n",
    "X_train_h, X_test_h, y_train_h, y_test_h = train_test_split(X_hydrogen, y_hydrogen, test_size=0.2, random_state=42)\n",
    "\n",
    "# Train a linear regression model for hydrogen prediction\n",
    "model_hydrogen = LinearRegression()\n",
    "model_hydrogen.fit(X_train_h, y_train_h)\n",
    "\n",
    "# Evaluate the hydrogen model\n",
    "y_pred_h = model_hydrogen.predict(X_test_h)\n",
    "mse_h = mean_squared_error(y_test_h, y_pred_h)\n",
    "print(f'Hydrogen Model Mean Squared Error: {mse_h}')\n",
    "\n",
    "# Split the data into training and testing sets for ammonia prediction\n",
    "X_ammonia = daily_data[['Power generated']]\n",
    "y_ammonia = daily_data['Ammonia ']\n",
    "X_train_a, X_test_a, y_train_a, y_test_a = train_test_split(X_ammonia, y_ammonia, test_size=0.2, random_state=42)\n",
    "\n",
    "# Train a linear regression model for ammonia prediction\n",
    "model_ammonia = LinearRegression()\n",
    "model_ammonia.fit(X_train_a, y_train_a)\n",
    "\n",
    "# Evaluate the ammonia model\n",
    "y_pred_a = model_ammonia.predict(X_test_a)\n",
    "mse_a = mean_squared_error(y_test_a, y_pred_a)\n",
    "print(f'Ammonia Model Mean Squared Error: {mse_a}')\n",
    "\n",
    "# Predict daily hydrogen production for the entire dataset\n",
    "daily_data['Predicted Hydrogen'] = model_hydrogen.predict(daily_data[['Power generated']])\n",
    "\n",
    "# Predict daily ammonia production for the entire dataset\n",
    "daily_data['Predicted Ammonia'] = model_ammonia.predict(daily_data[['Power generated']])\n",
    "\n",
    "# Calculate the total annual production\n",
    "total_solar_power = daily_data['Power generated'].sum()\n",
    "total_hydrogen = daily_data['Predicted Hydrogen'].sum()\n",
    "total_ammonia = daily_data['Predicted Ammonia'].sum()\n",
    "\n",
    "print(f'Total Annual Solar Power Generated: {total_solar_power}')\n",
    "print(f'Total Annual Hydrogen Production: {total_hydrogen}')\n",
    "print(f'Total Annual Ammonia Production: {total_ammonia}')\n"
   ]
  }
 ],
 "metadata": {
  "kernelspec": {
   "display_name": "Python 3 (ipykernel)",
   "language": "python",
   "name": "python3"
  },
  "language_info": {
   "codemirror_mode": {
    "name": "ipython",
    "version": 3
   },
   "file_extension": ".py",
   "mimetype": "text/x-python",
   "name": "python",
   "nbconvert_exporter": "python",
   "pygments_lexer": "ipython3",
   "version": "3.11.7"
  }
 },
 "nbformat": 4,
 "nbformat_minor": 5
}
